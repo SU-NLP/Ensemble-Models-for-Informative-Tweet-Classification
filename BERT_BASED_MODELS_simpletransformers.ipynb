{
  "nbformat": 4,
  "nbformat_minor": 0,
  "metadata": {
    "colab": {
      "name": "BERT_BASED_MODELS_simpletransformers.ipynb",
      "provenance": [],
      "collapsed_sections": []
    },
    "kernelspec": {
      "name": "python3",
      "display_name": "Python 3"
    }
  },
  "cells": [
    {
      "cell_type": "code",
      "metadata": {
        "id": "4ajmEb7ELnUe"
      },
      "source": [
        "# data source\n",
        "! git clone https://github.com/VinAIResearch/COVID19Tweet.git\n",
        "! pip install simpletransformers\n",
        "\n",
        "import numpy as np \n",
        "import pandas as pd\n",
        "import json\n",
        "import os\n",
        "from sklearn.metrics import classification_report\n",
        "from simpletransformers.classification import ClassificationModel\n",
        "import pandas as pd\n",
        "import logging\n"
      ],
      "execution_count": null,
      "outputs": []
    },
    {
      "cell_type": "code",
      "metadata": {
        "id": "Pya2-iH7N-t_"
      },
      "source": [
        "# if gpu was to be used fp16 should be set true in args file\n",
        "# we should also install apex\n",
        "\n",
        "\n",
        "# INSTALL APEX for running fp16\n",
        "%%writefile apex.sh\n",
        "export CUDA_HOME=/usr/local/cuda-10.1\n",
        "git clone https://github.com/NVIDIA/apex\n",
        "pip install -v --no-cache-dir --global-option=\"--cpp_ext\" --global-option=\"--cuda_ext\" ./apex"
      ],
      "execution_count": null,
      "outputs": []
    },
    {
      "cell_type": "code",
      "metadata": {
        "id": "jOgfyZ8pOIHT"
      },
      "source": [
        "# install apex using the script we just created\n",
        "!sh apex.sh"
      ],
      "execution_count": null,
      "outputs": []
    },
    {
      "cell_type": "markdown",
      "metadata": {
        "id": "OxREIJD8Fltf"
      },
      "source": [
        "# loading task data"
      ]
    },
    {
      "cell_type": "code",
      "metadata": {
        "id": "Wz_CXhd8FpFr"
      },
      "source": [
        "train_df = pd.read_csv(\"COVID19Tweet/train.tsv\", sep='\\t')\n",
        "val_df = pd.read_csv(\"COVID19Tweet/valid.tsv\", sep='\\t',names=['Id','Text','Label'])\n",
        "test_df = pd.read_csv(\"COVID19Tweet/unlabeled_test_with_noise.tsv\", sep='\\t',names=['Id','Text'])\n",
        "\n",
        "\n",
        "train_sentences = train_df.Text.values\n",
        "train_labels =  train_df.Label.values\n",
        "\n",
        "val_sentences = val_df.Text.values\n",
        "val_labels =  val_df.Label.values\n",
        "\n",
        "\n",
        "test_sentences = test_df.Text.values\n",
        "# test_labels =  val_df.Label.values\n",
        "\n",
        "y_train = [int(label == 'INFORMATIVE') for label in train_labels]\n",
        "y_val = [int(label == 'INFORMATIVE') for label in val_labels]\n",
        "\n",
        "y_train = np.array(y_train)\n",
        "y_val = np.array(y_val)"
      ],
      "execution_count": null,
      "outputs": []
    },
    {
      "cell_type": "code",
      "metadata": {
        "id": "QBD9gP6VNaKs"
      },
      "source": [
        ""
      ],
      "execution_count": null,
      "outputs": []
    },
    {
      "cell_type": "markdown",
      "metadata": {
        "id": "QddEFgXiNbFz"
      },
      "source": [
        "# simple transformers preparing and model args"
      ]
    },
    {
      "cell_type": "code",
      "metadata": {
        "id": "Nl9WivecOV9L"
      },
      "source": [
        "# model name and type should be provided when creating a classification model\n",
        "\n",
        "model_type = 'bert'\n",
        "# model_type = 'albert'\n",
        "\n",
        "model_name =  \"bert-base-uncased\"\n",
        "# model_name = \"digitalepidemiologylab/covid-twitter-bert\"\n",
        "# model_name = \"albert-base-v2\"\n",
        "\n",
        "args = {'reprocess_input_data': True,\"learning_rate\": 1e-5,\"save_steps\":99999999999,\n",
        "        'overwrite_output_dir': True,\"output_dir\": \"outputs/\",\"num_train_epochs\":10,\n",
        "        \"max_seq_length\":128,\"fp16\":True,\"evaluate_during_training\": True,\n",
        "        \"evaluate_during_training_verbose\": True,\"use_cached_eval_features\": True}\n"
      ],
      "execution_count": null,
      "outputs": []
    },
    {
      "cell_type": "code",
      "metadata": {
        "id": "PxNQkbwSNhc0"
      },
      "source": [
        "logging.basicConfig(level=logging.INFO)\n",
        "transformers_logger = logging.getLogger(\"transformers\")\n",
        "transformers_logger.setLevel(logging.WARNING)\n",
        "\n",
        "\n",
        "# Create a ClassificationModel\n",
        "model = ClassificationModel(model_type, model_name, num_labels=2, args=args)"
      ],
      "execution_count": null,
      "outputs": []
    },
    {
      "cell_type": "markdown",
      "metadata": {
        "id": "B1-OQ5blP4QL"
      },
      "source": [
        "# model training"
      ]
    },
    {
      "cell_type": "code",
      "metadata": {
        "id": "uq6I_5e-PzTn"
      },
      "source": [
        "# Train the model\n",
        "model.train_model(train_df[['Text',\"int_label\"]],eval_df=val_df[['Text',\"int_label\"]],args=args)"
      ],
      "execution_count": null,
      "outputs": []
    },
    {
      "cell_type": "markdown",
      "metadata": {
        "id": "A8zEWxyaP8Zw"
      },
      "source": [
        "# eval on validation set"
      ]
    },
    {
      "cell_type": "code",
      "metadata": {
        "id": "rhP6yCGmP0Hk"
      },
      "source": [
        "predictions, raw_outputs = model.predict(val_df['Text'])\n",
        "\n",
        "preds_bert = np.argmax(raw_outputs,axis=1)\n",
        "\n",
        "print(classification_report(y_val, preds_bert,digits=6))\n"
      ],
      "execution_count": null,
      "outputs": []
    },
    {
      "cell_type": "markdown",
      "metadata": {
        "id": "H24uIn_NQiwa"
      },
      "source": [
        "# saving bert prob outputs in CSV to use later in Ensemble "
      ]
    },
    {
      "cell_type": "code",
      "metadata": {
        "id": "H8J4HZ7HQjYO"
      },
      "source": [
        "val_results = pd.DataFrame()\n",
        "\n",
        "raw_outputs = [(probs[0],probs[1]) for probs in raw_outputs]\n",
        "\n",
        "val_results[\"bert_probs\"] = raw_outputs\n",
        "# val_results[\"ct_bert_probs\"] = raw_outputs\n",
        "# val_results[\"albert_probs\"] = raw_outputs\n",
        "\n"
      ],
      "execution_count": null,
      "outputs": []
    }
  ]
}