{
  "nbformat": 4,
  "nbformat_minor": 0,
  "metadata": {
    "colab": {
      "name": "Ensemble.ipynb",
      "provenance": [],
      "collapsed_sections": []
    },
    "kernelspec": {
      "name": "python3",
      "display_name": "Python 3"
    }
  },
  "cells": [
    {
      "cell_type": "code",
      "metadata": {
        "id": "1jBuRnOuUbhk"
      },
      "source": [
        "results_df = pd.read_csv(\"results.csv\", index_col=0)"
      ],
      "execution_count": null,
      "outputs": []
    },
    {
      "cell_type": "markdown",
      "metadata": {
        "id": "rrf8xrAJVJhG"
      },
      "source": [
        "# read in BERT outputs and transform into probs"
      ]
    },
    {
      "cell_type": "code",
      "metadata": {
        "id": "oW7jZYAOdkzA"
      },
      "source": [
        "from scipy.special import softmax\n",
        "\n",
        "bert_scores = np.array([(float(result.split(\",\")[0][1:]),float(result.split(\",\")[1][:-1])) for result in results_df['ct_bert_outputs']])\n",
        "probs = softmax(bert_scores,axis = 1)\n",
        "probs = [(prob[0],prob[1]) for prob in probs]\n",
        "results_df['ct_bert_probs'] = probs"
      ],
      "execution_count": null,
      "outputs": []
    },
    {
      "cell_type": "code",
      "metadata": {
        "id": "ppqwnc5PiBb1"
      },
      "source": [
        "from scipy.special import softmax\n",
        "\n",
        "bert_scores = np.array([(float(result.split(\",\")[0][1:]),float(result.split(\",\")[1][:-1])) for result in results_df['albert_outputs']])\n",
        "probs = softmax(bert_scores,axis = 1)\n",
        "probs = [(prob[0],prob[1]) for prob in probs]\n",
        "results_df['albert_probs'] = probs\n"
      ],
      "execution_count": null,
      "outputs": []
    },
    {
      "cell_type": "code",
      "metadata": {
        "id": "IzKUAfCziCf8"
      },
      "source": [
        "from scipy.special import softmax\n",
        "\n",
        "bert_scores = np.array([(float(result.split(\",\")[0][1:]),float(result.split(\",\")[1][:-1])) for result in results_df['bert_outputs']])\n",
        "probs = softmax(bert_scores,axis = 1)\n",
        "probs = [(prob[0],prob[1]) for prob in probs]\n",
        "\n",
        "results_df['bert_probs'] = probs\n"
      ],
      "execution_count": null,
      "outputs": []
    },
    {
      "cell_type": "markdown",
      "metadata": {
        "id": "D2aZ6x6GVSzW"
      },
      "source": [
        "# ensembling\n"
      ]
    },
    {
      "cell_type": "code",
      "metadata": {
        "id": "3rGElKZSVckh"
      },
      "source": [
        "# models to use in ensemble (class0,class1 probs column name)\n",
        "models_list = ['ct_bert_probs','albert_probs','cnn_w2v_probs','cnn_glove_probs']\n",
        "list_of_probs = []\n",
        "for model in models_list:\n",
        "  probs = np.array([(float(result.split(\",\")[0][1:]),float(result.split(\",\")[1][:-1])) for result in results_df[model]])\n",
        "  list_of_probs.append(probs)\n",
        "\n",
        "CONFIDENCE_THRESHOLD = 0.82\n",
        "\n",
        "# by default use the first model in models_list, fallback to avg if below threshold\n",
        "# fixed for 4 models \n",
        "ensemble_probs = []\n",
        "avg_use = 0\n",
        "for i in range(len(list_of_probs[0])):\n",
        "  best_model_class0_prob = list_of_probs[0][i][0] \n",
        "  best_model_class1_prob = list_of_probs[0][i][1] \n",
        "\n",
        "  # use best model\n",
        "  if (best_model_class0_prob > CONFIDENCE_THRESHOLD or best_model_class1_prob > CONFIDENCE_THRESHOLD):\n",
        "    ensemble_probs.append((best_model_class0_prob,best_model_class1_prob))\n",
        "  \n",
        "  # fallback to avg of all\n",
        "  else:\n",
        "    # hardcoded for 4 models\n",
        "    class0_prob = list_of_probs[0][i][0] + list_of_probs[1][i][0] + list_of_probs[2][i][0] + list_of_probs[3][i][0] \n",
        "    class1_prob = list_of_probs[0][i][1] + list_of_probs[1][i][1] + list_of_probs[2][i][1] + list_of_probs[3][i][1]\n",
        "    ensemble_probs.append((class0_prob,class1_prob))\n",
        "    #for debug\n",
        "    avg_use+=1\n",
        "\n",
        "\n",
        "ensemble_probs = np.array(ensemble_probs)\n",
        "ensemble_preds = np.argmax(ensemble_probs,axis=1)\n",
        "ensemble_probs = [(prob[0],prob[1]) for prob in ensemble_probs]\n",
        "results_df['ensemble_best1_prob'] = ensemble_probs\n",
        "results_df['ensemble_best1_labels'] = ensemble_preds\n",
        "\n",
        "print('avg prob is used in ', avg_use)"
      ],
      "execution_count": null,
      "outputs": []
    },
    {
      "cell_type": "markdown",
      "metadata": {
        "id": "nbgauepTUhsY"
      },
      "source": [
        "# Visulize predictions through color maps"
      ]
    },
    {
      "cell_type": "code",
      "metadata": {
        "id": "kz05KLsS6J01",
        "outputId": "72d7f36d-4f91-4e15-d903-f777d7d9a935",
        "colab": {
          "base_uri": "https://localhost:8080/",
          "height": 711
        }
      },
      "source": [
        "import seaborn as sns\n",
        "import matplotlib.pyplot as plt\n",
        "%matplotlib inline \n",
        "\n",
        "workplace=results_df[['gold_labels','ensemble_avg_labels',\"voted_bert_labels\",\"ct_bert_labels\",'albert_labels','cnn_w2v_labels','cnn_glove_labels']]\n",
        "sorted_workplace=workplace.sort_values(by=['gold_labels','voted_bert_labels',\"ensemble_avg_labels\",\"ct_bert_labels\",'albert_labels','cnn_w2v_labels','cnn_glove_labels'])\n",
        "sorted_workplace\n",
        "\n",
        "#print(sorted_workplace.groupby(['ACTUAL_LABEL','CNN-LSTM','ATTENTION','BERT-TURKISH']))\n",
        "sorted_workplace.rename(columns = {'gold_labels':'Gold','voted_bert_labels':'SUM Ensemble','ensemble_avg_labels':'Voted CT-BERT','ct_bert_labels':'CTBert','albert_labels':'ALBERT','cnn_w2v_labels':'CNN_W','cnn_glove_labels':\"CNN_G\"}, inplace = True) \n",
        "\n",
        "#cmaps=['000000','#EAC4C4']\n",
        "cmaps=['#EAC4C4','000000']\n",
        "\n",
        "sns.heatmap(sorted_workplace,cmap=cmaps, cbar=False,  yticklabels=False)\n",
        "#plt.title('Comparison of Predictions made by 3 models')\n",
        "plt.figure(figsize=(20, 20))  \n",
        "plt.show()\n",
        "\n",
        "errors = sorted_workplace.loc[(sorted_workplace['Gold'] != sorted_workplace['SUM Ensemble']) | \n",
        "                         (sorted_workplace['Gold'] != sorted_workplace['Voted CT-BERT']) | \n",
        "                         \n",
        "                         (sorted_workplace['Gold'] != sorted_workplace['CTBert']) | \n",
        "\n",
        "                         (sorted_workplace['Gold'] != sorted_workplace['ALBERT']) | \n",
        "                         (sorted_workplace['Gold'] != sorted_workplace['CNN_W']) | \n",
        "\n",
        "                         (sorted_workplace['Gold'] != sorted_workplace['CNN_G'])]\n",
        "\n",
        "\n",
        "print(len(errors))\n",
        "\n",
        "common_errors=sorted_workplace.loc[(sorted_workplace['Gold'] != sorted_workplace['SUM Ensemble']) & \n",
        "                         (sorted_workplace['Gold'] != sorted_workplace['Voted CT-BERT']) &\n",
        "                                  \n",
        "                         (sorted_workplace['Gold'] != sorted_workplace['CTBert']) &\n",
        "                         (sorted_workplace['Gold'] != sorted_workplace['ALBERT']) &\n",
        "                         (sorted_workplace['Gold'] != sorted_workplace['CNN_W']) &\n",
        "\n",
        "                         (sorted_workplace['Gold'] != sorted_workplace['CNN_G']) ]\n",
        "\n",
        "\n",
        "\n",
        "print(len(common_errors))\n",
        "#cmaps=['000000','#EAC4C4']\n",
        "cmaps=['#EAC4C4','000000']\n",
        "\n",
        "sns.heatmap(errors,cmap=cmaps, cbar=False,  yticklabels=False)\n",
        "#plt.title('Comparison of Predictions made by 3 models')\n",
        "plt.figure(figsize=(20, 20))  \n",
        "plt.show()"
      ],
      "execution_count": null,
      "outputs": [
        {
          "output_type": "display_data",
          "data": {
            "image/png": "[encoded data removed]",
            "text/plain": [
              "<Figure size 432x288 with 1 Axes>"
            ]
          },
          "metadata": {
            "tags": [],
            "needs_background": "light"
          }
        },
        {
          "output_type": "display_data",
          "data": {
            "text/plain": [
              "<Figure size 1440x1440 with 0 Axes>"
            ]
          },
          "metadata": {
            "tags": []
          }
        },
        {
          "output_type": "stream",
          "text": [
            "270\n",
            "30\n"
          ],
          "name": "stdout"
        },
        {
          "output_type": "display_data",
          "data": {
            "image/png": "[encoded data removed]",
            "text/plain": [
              "<Figure size 432x288 with 1 Axes>"
            ]
          },
          "metadata": {
            "tags": [],
            "needs_background": "light"
          }
        },
        {
          "output_type": "display_data",
          "data": {
            "text/plain": [
              "<Figure size 1440x1440 with 0 Axes>"
            ]
          },
          "metadata": {
            "tags": []
          }
        }
      ]
    }
  ]
}